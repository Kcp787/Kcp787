{
 "cells": [
  {
   "cell_type": "code",
   "execution_count": null,
   "metadata": {},
   "outputs": [],
   "source": [
    "import os\n",
    "from os import listdir\n",
    "import win32com.client\n",
    "from natsort import natsorted"
   ]
  },
  {
   "cell_type": "code",
   "execution_count": null,
   "metadata": {},
   "outputs": [],
   "source": [
    "#import location of xlsbs\n",
    "path_data_Aquator = r\"C:\\Aquator\\Model Runs\\WRM189 - emergency storage regulator analysis\\2050 demand results\\Results\\2050\"\n",
    "path_data_Aquator"
   ]
  },
  {
   "cell_type": "code",
   "execution_count": null,
   "metadata": {},
   "outputs": [],
   "source": [
    "#create list of xlsb files for convert (exludes the csv folder just created!)\n",
    "xlsb_files=[i for i in natsorted(listdir(path_data_Aquator)) if \".xlsb\" in i]\n",
    "xlsb_files"
   ]
  },
  {
   "cell_type": "code",
   "execution_count": null,
   "metadata": {},
   "outputs": [],
   "source": [
    "output = r\"C:\\Aquator\\Model Runs\\WRM189 - emergency storage regulator analysis\\2050 demand results\\Results\\CSV files\""
   ]
  },
  {
   "cell_type": "code",
   "execution_count": null,
   "metadata": {},
   "outputs": [],
   "source": [
    "excel = win32com.client.Dispatch(\"Excel.Application\")"
   ]
  },
  {
   "cell_type": "code",
   "execution_count": null,
   "metadata": {},
   "outputs": [],
   "source": [
    "# output = r\"C:\\Aquator\\Model Runs\\WRM189 - emergency storage regulator analysis\\2020 demand results\\Results\\CSV files\\\\\"\n",
    "\n",
    "#Convert all files to csv (opens instances of Excel to do this)\n",
    "for file in xlsb_files:\n",
    "    print(file)    \n",
    "    excel = win32com.client.Dispatch(\"Excel.Application\")\n",
    "    excel.Visible=False\n",
    "    excel.ScreenUpdating = False\n",
    "    excel.DisplayAlerts = False\n",
    "    excel.EnableEvents = False\n",
    "    doc = excel.Workbooks.Open(os.path.join(path_data_Aquator, file))\n",
    "    doc.SaveAs(Filename=os.path.join(output, file[:-5]),FileFormat=6)\n",
    "    doc.Close()\n",
    "excel.Quit()"
   ]
  },
  {
   "cell_type": "code",
   "execution_count": null,
   "metadata": {},
   "outputs": [],
   "source": [
    "import os\n",
    "from os import listdir\n",
    "from natsort import natsorted\n",
    "from concurrent.futures import ThreadPoolExecutor\n",
    "import win32com.client\n",
    "import pythoncom\n",
    "\n",
    "path_data_Aquator = r\"C:\\Aquator\\Model Runs\\WRM189 - emergency storage regulator analysis\\2020 demand results\\Results\\2020\"\n",
    "xlsb_files = [i for i in natsorted(listdir(path_data_Aquator)) if i.endswith(\".xlsb\")]\n",
    "\n",
    "output = r\"C:\\Aquator\\Model Runs\\WRM189 - emergency storage regulator analysis\\2020 demand results\\Results\\CSV files\"\n",
    "\n",
    "def convert_to_csv(file):\n",
    "    try:\n",
    "        print(file)\n",
    "        pythoncom.CoInitialize()  # Initialize the COM library for the current thread\n",
    "        excel = win32com.client.Dispatch(\"Excel.Application\")\n",
    "        excel.Visible = False\n",
    "        excel.DisplayAlerts = False\n",
    "        excel.EnableEvents = False\n",
    "        doc = excel.Workbooks.Open(os.path.join(path_data_Aquator, file))\n",
    "        # Save the active sheet as CSV directly\n",
    "        doc.ActiveSheet.SaveAs(Filename=os.path.join(output, f\"{file[:-5]}.csv\"), FileFormat=6)\n",
    "        doc.Close()\n",
    "    except Exception as e:\n",
    "        print(f\"Error processing {file}: {str(e)}\")\n",
    "    finally:\n",
    "        excel.Quit()\n",
    "        pythoncom.CoUninitialize()  # Uninitialize the COM library for the current thread\n",
    "\n",
    "# Use ThreadPoolExecutor for parallel processing\n",
    "with ThreadPoolExecutor() as executor:\n",
    "    executor.map(convert_to_csv, xlsb_files)\n"
   ]
  },
  {
   "cell_type": "code",
   "execution_count": null,
   "metadata": {},
   "outputs": [],
   "source": [
    "import os\n",
    "import win32com.client\n",
    "import time\n",
    "import pythoncom\n",
    "from natsort import natsorted\n",
    "from os import listdir\n",
    "import win32com.client\n",
    "from natsort import natsorted\n",
    "\n",
    "path_data_Aquator = r\"C:\\Aquator\\Model Runs\\WRM189 - emergency storage regulator analysis\\2020 demand results\\Results\\2020\"\n",
    "xlsb_files = [i for i in natsorted(listdir(path_data_Aquator)) if \".xlsb\" in i]\n",
    "output = r\"C:\\Aquator\\Model Runs\\WRM189 - emergency storage regulator analysis\\2020 demand results\\Results\\CSV files\"\n",
    "\n",
    "def convert_to_csv(file):\n",
    "    try:\n",
    "        print(file)\n",
    "        pythoncom.CoInitialize()\n",
    "        excel = win32com.client.Dispatch(\"Excel.Application\")\n",
    "        excel.Visible = False\n",
    "        excel.DisplayAlerts = False\n",
    "        excel.EnableEvents = False\n",
    "        doc = excel.Workbooks.Open(os.path.join(path_data_Aquator, file))\n",
    "        doc.ActiveSheet.SaveAs(Filename=os.path.join(output, f\"{file[:-5]}.csv\"), FileFormat=6)\n",
    "        doc.Close()\n",
    "    except Exception as e:\n",
    "        print(f\"Error processing {file}: {str(e)}\")\n",
    "    finally:\n",
    "        excel.Quit()\n",
    "        pythoncom.CoUninitialize()\n",
    "        # Introduce a delay (e.g., 1 second) between conversions\n",
    "        time.sleep(1)\n",
    "\n",
    "# Call CoInitialize before running the conversion\n",
    "pythoncom.CoInitialize()\n",
    "# Convert files to CSV\n",
    "for file in xlsb_files:\n",
    "    convert_to_csv(file)\n",
    "# Call CoUninitialize after conversions\n",
    "pythoncom.CoUninitialize()\n"
   ]
  },
  {
   "cell_type": "code",
   "execution_count": null,
   "metadata": {},
   "outputs": [],
   "source": [
    "import os\n",
    "import win32com.client\n",
    "import time\n",
    "import pythoncom\n",
    "from natsort import natsorted\n",
    "from os import listdir\n",
    "import win32com.client\n",
    "from natsort import natsorted\n",
    "from concurrent.futures import ThreadPoolExecutor\n",
    "\n",
    "path_data_Aquator = r\"C:\\Aquator\\Model Runs\\WRM189 - emergency storage regulator analysis\\2020 demand results\\Results\\2020\"\n",
    "xlsb_files = [i for i in natsorted(listdir(path_data_Aquator)) if \".xlsb\" in i]\n",
    "output = r\"C:\\Aquator\\Model Runs\\WRM189 - emergency storage regulator analysis\\2020 demand results\\Results\\CSV files\"\n",
    "\n",
    "def convert_to_csv(file):\n",
    "    try:\n",
    "        print(file)\n",
    "        pythoncom.CoInitialize()\n",
    "        excel = win32com.client.Dispatch(\"Excel.Application\")\n",
    "        excel.Visible = False\n",
    "        excel.DisplayAlerts = False\n",
    "        excel.EnableEvents = False\n",
    "        doc = excel.Workbooks.Open(os.path.join(path_data_Aquator, file))\n",
    "        doc.ActiveSheet.SaveAs(Filename=os.path.join(output, f\"{file[:-5]}.csv\"), FileFormat=6)\n",
    "        doc.Close()\n",
    "    except Exception as e:\n",
    "        print(f\"Error processing {file}: {str(e)}\")\n",
    "    finally:\n",
    "        excel.Quit()\n",
    "        pythoncom.CoUninitialize()\n",
    "        # Introduce a delay (e.g., 1 second) between conversions\n",
    "        time.sleep(2)\n",
    "\n",
    "# Call CoInitialize before running the conversion\n",
    "pythoncom.CoInitialize()\n",
    "# Use ThreadPoolExecutor for parallel processing\n",
    "with ThreadPoolExecutor() as executor:\n",
    "    executor.map(convert_to_csv, xlsb_files)\n",
    "# Call CoUninitialize after conversions\n",
    "pythoncom.CoUninitialize()"
   ]
  },
  {
   "cell_type": "code",
   "execution_count": null,
   "metadata": {},
   "outputs": [],
   "source": []
  }
 ],
 "metadata": {
  "kernelspec": {
   "display_name": "KW1",
   "language": "python",
   "name": "python3"
  },
  "language_info": {
   "codemirror_mode": {
    "name": "ipython",
    "version": 3
   },
   "file_extension": ".py",
   "mimetype": "text/x-python",
   "name": "python",
   "nbconvert_exporter": "python",
   "pygments_lexer": "ipython3",
   "version": "3.9.12"
  }
 },
 "nbformat": 4,
 "nbformat_minor": 2
}
