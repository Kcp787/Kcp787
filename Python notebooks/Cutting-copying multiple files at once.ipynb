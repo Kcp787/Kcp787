{
 "cells": [
  {
   "attachments": {},
   "cell_type": "markdown",
   "metadata": {},
   "source": [
    "# This cuts your files to specified location"
   ]
  },
  {
   "cell_type": "code",
   "execution_count": null,
   "metadata": {},
   "outputs": [],
   "source": [
    "import os\n",
    "import shutil\n",
    "from concurrent.futures import ThreadPoolExecutor\n",
    "\n",
    "def move_file(source, destination):\n",
    "    shutil.move(source, destination)\n",
    "    print(f\"Moved: {source}\")\n",
    "\n",
    "def move_files_parallel(source_dir, destination_dir):\n",
    "    if not os.path.exists(destination_dir):\n",
    "        os.makedirs(destination_dir)\n",
    "\n",
    "    with ThreadPoolExecutor() as executor:\n",
    "        files_to_move = os.listdir(source_dir)\n",
    "        futures = []\n",
    "\n",
    "        for file_name in files_to_move:\n",
    "            source_path = os.path.join(source_dir, file_name)\n",
    "            destination_path = os.path.join(destination_dir, file_name)\n",
    "            futures.append(executor.submit(move_file, source_path, destination_path))\n",
    "\n",
    "        # Wait for all move operations to complete\n",
    "        for future in futures:\n",
    "            future.result()\n",
    "\n",
    "if __name__ == \"__main__\":\n",
    "    source_directory = r\"V:\\Results\\2050-2055\\Results\\2050\"\n",
    "    destination_directory = r\"C:\\Aquator\\Model Runs\\WRM189 - emergency storage regulator analysis\\2050 demand results\\Results\\2050\"\n",
    "\n",
    "    move_files_parallel(source_directory, destination_directory)\n"
   ]
  },
  {
   "cell_type": "code",
   "execution_count": null,
   "metadata": {},
   "outputs": [],
   "source": [
    "import os\n",
    "import shutil\n",
    "from concurrent.futures import ThreadPoolExecutor\n",
    "\n",
    "def move_file(source, destination):\n",
    "    shutil.move(source, destination)\n",
    "    print(f\"Moved: {source}\")\n",
    "\n",
    "def move_files_parallel(source_dir, destination_dir, max_workers=None):\n",
    "    if not os.path.exists(destination_dir):\n",
    "        os.makedirs(destination_dir)\n",
    "\n",
    "    with ThreadPoolExecutor(max_workers=max_workers) as executor:\n",
    "        files_to_move = os.listdir(source_dir)\n",
    "        futures = []\n",
    "\n",
    "        for file_name in files_to_move:\n",
    "            source_path = os.path.join(source_dir, file_name)\n",
    "            destination_path = os.path.join(destination_dir, file_name)\n",
    "            futures.append(executor.submit(move_file, source_path, destination_path))\n",
    "\n",
    "        # Wait for all move operations to complete\n",
    "        for future in futures:\n",
    "            future.result()\n",
    "\n",
    "if __name__ == \"__main__\":\n",
    "    source_directory = r\"V:\\Results\\2050-2055\\Results\\2055\"\n",
    "    destination_directory = r\"C:\\Aquator\\Model Runs\\WRM189 - emergency storage regulator analysis\\2055 demand results\\Results\\2055\"\n",
    "\n",
    "    move_files_parallel(source_directory, destination_directory, max_workers=20)  # Set the number of threads you want to use\n"
   ]
  },
  {
   "attachments": {},
   "cell_type": "markdown",
   "metadata": {},
   "source": [
    "# This copies the files to your specified location"
   ]
  },
  {
   "cell_type": "code",
   "execution_count": null,
   "metadata": {},
   "outputs": [],
   "source": [
    "import os\n",
    "import shutil\n",
    "from concurrent.futures import ThreadPoolExecutor\n",
    "\n",
    "def copy_file(source, destination):\n",
    "    shutil.copy2(source, destination)\n",
    "    print(f\"Copied: {source}\")\n",
    "\n",
    "def copy_files_parallel(source_dir, destination_dir):\n",
    "    if not os.path.exists(destination_dir):\n",
    "        os.makedirs(destination_dir)\n",
    "\n",
    "    with ThreadPoolExecutor() as executor:\n",
    "        files_to_copy = os.listdir(source_dir)\n",
    "        futures = []\n",
    "\n",
    "        for file_name in files_to_copy:\n",
    "            source_path = os.path.join(source_dir, file_name)\n",
    "            destination_path = os.path.join(destination_dir, file_name)\n",
    "            futures.append(executor.submit(copy_file, source_path, destination_path))\n",
    "\n",
    "        # Wait for all copy operations to complete\n",
    "        for future in futures:\n",
    "            future.result()\n",
    "\n",
    "if __name__ == \"__main__\":\n",
    "    source_directory = r\"D:\\Aquator\\Model Runs\\WRM999 ES Test KW\\Model 2\\Results\\1875\"\n",
    "    destination_directory = r\"D:\\Aquator\\Model Runs\\WRM185 emergency storage testing\\1875-1895 run results\\Results\\1875\"\n",
    "\n",
    "    copy_files_parallel(source_directory, destination_directory)"
   ]
  }
 ],
 "metadata": {
  "kernelspec": {
   "display_name": "KW1",
   "language": "python",
   "name": "python3"
  },
  "language_info": {
   "codemirror_mode": {
    "name": "ipython",
    "version": 3
   },
   "file_extension": ".py",
   "mimetype": "text/x-python",
   "name": "python",
   "nbconvert_exporter": "python",
   "pygments_lexer": "ipython3",
   "version": "3.9.12"
  },
  "orig_nbformat": 4
 },
 "nbformat": 4,
 "nbformat_minor": 2
}
