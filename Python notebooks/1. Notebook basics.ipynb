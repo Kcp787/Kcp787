{
 "cells": [
  {
   "cell_type": "code",
   "execution_count": null,
   "metadata": {},
   "outputs": [],
   "source": [
    "import pandas as pd\n",
    "import numpy as np\n",
    "import seaborn as sb\n",
    "from matplotlib import pyplot as plt"
   ]
  },
  {
   "cell_type": "code",
   "execution_count": null,
   "metadata": {},
   "outputs": [],
   "source": [
    "##this is how you load files into the notebooks\n",
    "#DF relates to the name of your dataframe (this could be named anything)\n",
    "#PD.read_excel is the name of the function and then brackets denote the name of the file you want to import\n",
    "df = pd.read_excel(r\"C:\\Gitlab clone\\Simple data analysis\\simple-data-analysis-tools\\Kieran data files\\Example datasets\\Windermere.xlsx\")\n",
    "df"
   ]
  },
  {
   "cell_type": "code",
   "execution_count": null,
   "metadata": {},
   "outputs": [],
   "source": [
    "#view the data you have imported\n",
    "#this could be done in a number of ways\n",
    "#using the head() function displays the top number of rows defined \n",
    "\n",
    "df.head(10)\n",
    "\n",
    "#some more examples below of how you can view the dataframe just remote the '#==' prefix from the code and then run it\n",
    "#===df.tail(10)\n",
    "#===print(df)"
   ]
  },
  {
   "cell_type": "code",
   "execution_count": null,
   "metadata": {},
   "outputs": [],
   "source": [
    "#this code converts the date column to a date and time data type\n",
    "df['Date'] = pd.to_datetime(df['Date'])"
   ]
  },
  {
   "cell_type": "code",
   "execution_count": null,
   "metadata": {},
   "outputs": [],
   "source": [
    "#this code gives you an overview of the data in the dataframe\n",
    "df.describe"
   ]
  },
  {
   "cell_type": "code",
   "execution_count": null,
   "metadata": {},
   "outputs": [],
   "source": [
    "#as mentioned above you can rename your dataframe \n",
    "#Make a new dataframe called - data\n",
    "data = df"
   ]
  },
  {
   "cell_type": "code",
   "execution_count": null,
   "metadata": {},
   "outputs": [],
   "source": [
    "data"
   ]
  },
  {
   "cell_type": "code",
   "execution_count": null,
   "metadata": {},
   "outputs": [],
   "source": [
    "##this code transposes the columns into one column of filters\n",
    "##this allows you to create graphs based on column filter 'HUE'\n",
    "##will be demo'd later in the notebook \n",
    "data = data.melt(id_vars=['Date'], var_name='dataset', value_name='values')\n",
    "print(data)"
   ]
  },
  {
   "cell_type": "code",
   "execution_count": null,
   "metadata": {},
   "outputs": [],
   "source": [
    "##Now want to create two new columns for month and year\n",
    "data['Month'] = data['Date'].dt.month\n",
    "data['Year'] = data['Date'].dt.year"
   ]
  },
  {
   "cell_type": "code",
   "execution_count": null,
   "metadata": {},
   "outputs": [],
   "source": [
    "#now that I have created two new fields, I am running the dtypes to check the data structure\n",
    "data.dtypes"
   ]
  },
  {
   "cell_type": "code",
   "execution_count": null,
   "metadata": {},
   "outputs": [],
   "source": [
    "#now viewing all the data in a tabular format\n",
    "data"
   ]
  },
  {
   "cell_type": "code",
   "execution_count": null,
   "metadata": {},
   "outputs": [],
   "source": [
    "#this code filters the dataframe down to a specific year as I am only interested in looking at 2019 \n",
    "df_2019 = data[data.Year == 2019]"
   ]
  },
  {
   "cell_type": "code",
   "execution_count": null,
   "metadata": {},
   "outputs": [],
   "source": [
    "#this code filters the dataframe down to a specific year as I am only interested in looking at 2019 and Windermere\n",
    "wind_2019 = data[(data.Year == 2019) & (data.dataset == 'Windermere')]"
   ]
  },
  {
   "cell_type": "code",
   "execution_count": null,
   "metadata": {},
   "outputs": [],
   "source": [
    "wind_2019"
   ]
  },
  {
   "cell_type": "code",
   "execution_count": null,
   "metadata": {},
   "outputs": [],
   "source": [
    "#Plotting a simplete line chart\n",
    "wind_2019.plot( kind = 'line', x = 'Date', y = 'values', label = 'Windermere - 2019')"
   ]
  },
  {
   "cell_type": "code",
   "execution_count": null,
   "metadata": {},
   "outputs": [],
   "source": [
    "#update the values in the brackets to amend the figure size\n",
    "sb.set(rc={'figure.figsize':(25,10)})\n",
    "\n",
    "sb.lineplot (data = df_2019, x = 'Date', y = 'values', hue ='dataset', legend= 'full')\n",
    "\n"
   ]
  },
  {
   "cell_type": "code",
   "execution_count": null,
   "metadata": {},
   "outputs": [],
   "source": [
    "#this code defines the size of the chart\n",
    "#left value in the brack is Width, right value is height\n",
    "sb.set(rc={'figure.figsize':(23,7)})\n",
    "sb.set(style=\"ticks\", rc={\"lines.linewidth\": 1.8})\n",
    "\n",
    "#the example above was using the Matplotlib library - this has been built using the seaborn library \n",
    "#for this dataset it is easier to use Seaborn as it like the values predefined with a variable column (in this case the dataset column)\n",
    "#here you define the type of plot you want - lineplot, then define your x value - Data, Y value - values, hue = this is the variable fields which then generates the two lines\n",
    "#you can then assign addtional variable such as legend and pallete in this case but default values are set\n",
    "sb.lineplot (data = df_2019, x = 'Date', y = 'values', hue ='dataset', legend= 'full', palette= 'gist_earth')\n",
    "\n",
    "#some other pallete example below\n",
    "#sb.lineplot (data = df_2019, x = 'Date', y = 'values', hue ='dataset', legend= 'full', palette= 'Set1')\n",
    "#sb.lineplot (data = df_2019, x = 'Date', y = 'values', hue ='dataset', legend= 'full', palette= 'Set2')\n",
    "#sb.lineplot (data = df_2019, x = 'Date', y = 'values', hue ='dataset', legend= 'full', palette= 'gist_earth_r')\n",
    "#sb.lineplot (data = df_2019, x = 'Date', y = 'values', hue ='dataset', legend= 'full', palette= 'ocean')\n",
    "#sb.lineplot (data = df_2019, x = 'Date', y = 'values', hue ='dataset', legend= 'full', palette= 'ocean_r')\n",
    "\n",
    "# good link for Pallete overviews - https://medium.com/@morganjonesartist/color-guide-to-seaborn-palettes-da849406d44f\n",
    "\n",
    "#plt is from the matplotlib library\n",
    "#this relates to the legend for the chart(so the title = dataset, loc - location with the legend, bbox defines where the legend is located) \n",
    "plt.legend(title='Amended Title', loc='upper left', bbox_to_anchor=(1, 1))\n",
    "\n",
    "##can add other items from plt such as titles and x y axis labels as shown below\n",
    "plt.title(label = 'Test Title', fontsize= 14,color = 'Black')\n",
    "plt.xlabel('Month', fontsize=13,color = 'Purple')\n",
    "plt.ylabel('PET Values', fontsize=13, color = 'Blue')"
   ]
  },
  {
   "cell_type": "code",
   "execution_count": null,
   "metadata": {},
   "outputs": [],
   "source": [
    "#this code filters the dataframe down to a specific year as I am only interested in looking at 2020 and Windermere\n",
    "df_2020_wind = data[(data.Year == 2020) & (data.dataset == 'Windermere')]"
   ]
  },
  {
   "cell_type": "code",
   "execution_count": null,
   "metadata": {},
   "outputs": [],
   "source": [
    "#define the variables of your plot\n",
    "\n",
    "a = df_2020_wind\n",
    "b = data[(data.Year ==2019) & (data.dataset != 'Windermere')]\n",
    "\n",
    "\n",
    "a.plot(kind = 'line', x = 'Date', y = 'values', label = 'Line 1')\n",
    "b.plot(kind = 'line', x = 'Date', y = 'values', label = 'Line 2')\n",
    "\n",
    "plt.title(\"Plotting two simple lines\")\n",
    "plt.grid(True)\n",
    "plt.xlabel(\"X-label\")\n",
    "plt.ylabel(\"Y-label\")\n",
    "plt.legend()\n",
    "plt.show()\n"
   ]
  },
  {
   "cell_type": "code",
   "execution_count": null,
   "metadata": {},
   "outputs": [],
   "source": [
    "# Create a figure with subplots\n",
    "fig, axs = plt.subplots(2, 1, figsize=(18, 14))\n",
    "\n",
    "# Create line plots for both DataFrames on separate subplots\n",
    "a.plot(kind='line', x='Date', y='values', label='Line 1', ax=axs[0])\n",
    "b.plot(kind='line', x='Date', y='values', label='Line 2', ax=axs[1])\n",
    "\n",
    "# Set titles for each subplot\n",
    "axs[0].set_title(\"Plot for Line 1\")\n",
    "axs[1].set_title(\"Plot for Line 2\")\n",
    "\n",
    "# Set common labels\n",
    "fig.suptitle(\"Two Line Plots\")\n",
    "plt.xlabel(\"X-label\")\n",
    "plt.ylabel(\"Y-label\")\n",
    "\n",
    "# Display the legend\n",
    "axs[0].legend()\n",
    "axs[1].legend()\n",
    "\n",
    "# Display the plots\n",
    "plt.tight_layout()\n",
    "plt.show()"
   ]
  },
  {
   "cell_type": "code",
   "execution_count": null,
   "metadata": {},
   "outputs": [],
   "source": [
    "import matplotlib.pyplot as plt\n",
    "x = [1, 2, 3]\n",
    "x2 = [1, 3, 3.5]\n",
    "y = [-4, 0, 8]\n",
    "y2 = [-2, 3, -1]\n",
    "\n",
    "plt.plot(x, y, label='Line 1')\n",
    "plt.plot(x2, y2, label='Line 2')\n",
    "\n",
    "plt.title(\"Plotting two simple lines\")\n",
    "plt.grid(True)\n",
    "plt.figure(figsize = (10,10))\n",
    "plt.legend()\n",
    "plt.show()"
   ]
  },
  {
   "cell_type": "code",
   "execution_count": null,
   "metadata": {},
   "outputs": [],
   "source": [
    "#this code filters the dataframe down to a specific year as I am only interested in looking at 2020 and Windermere\n",
    "df_2020 = data[(data.Year == 2020)]"
   ]
  },
  {
   "cell_type": "code",
   "execution_count": null,
   "metadata": {},
   "outputs": [],
   "source": [
    "df_2020.plot(kind = 'bar', x= 'Month', y = 'values')"
   ]
  },
  {
   "cell_type": "code",
   "execution_count": null,
   "metadata": {},
   "outputs": [],
   "source": [
    "df_2020.plot(kind = 'line', x= 'Month', y = 'values')\n",
    "df_2020.plot(kind = 'bar', x= 'Month', y = 'values')\n"
   ]
  },
  {
   "cell_type": "code",
   "execution_count": null,
   "metadata": {},
   "outputs": [],
   "source": [
    "df_2020.groupby('dataset').nunique().plot(kind='bar')\n",
    "plt.show()"
   ]
  }
 ],
 "metadata": {
  "kernelspec": {
   "display_name": "Python 3 (Spyder)",
   "language": "python3",
   "name": "python3"
  },
  "language_info": {
   "codemirror_mode": {
    "name": "ipython",
    "version": 3
   },
   "file_extension": ".py",
   "mimetype": "text/x-python",
   "name": "python",
   "nbconvert_exporter": "python",
   "pygments_lexer": "ipython3",
   "version": "3.9.12"
  }
 },
 "nbformat": 4,
 "nbformat_minor": 4
}
